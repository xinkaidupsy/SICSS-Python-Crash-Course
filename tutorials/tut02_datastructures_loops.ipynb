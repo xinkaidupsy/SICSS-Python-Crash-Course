{
  "cells": [
    {
      "cell_type": "markdown",
      "id": "c7f7240e",
      "metadata": {
        "id": "c7f7240e"
      },
      "source": [
        "# Python Crash Course 02 - Data Structures & for-Loops"
      ]
    },
    {
      "cell_type": "markdown",
      "id": "68bb7eed-f82a-4144-91a6-4272fab6cc2a",
      "metadata": {
        "id": "68bb7eed-f82a-4144-91a6-4272fab6cc2a"
      },
      "source": [
        "## Lists, tuples, and sets\n",
        "- [Video tutorial (29 min)](https://www.youtube.com/watch?v=W8KRzm-HUcc)\n",
        "- Library reference:\n",
        "    - [lists](https://docs.python.org/3/library/stdtypes.html#lists)\n",
        "    - [tuples](https://docs.python.org/3/library/stdtypes.html#tuples)\n",
        "    - [sets](https://docs.python.org/3/library/stdtypes.html#set-types-set-frozenset)"
      ]
    },
    {
      "cell_type": "markdown",
      "id": "64be957e-cac7-451f-b1a3-32d05f20474c",
      "metadata": {
        "id": "64be957e-cac7-451f-b1a3-32d05f20474c"
      },
      "source": [
        "### Lists\n",
        "\n",
        "A list can be used to store a sequence of arbitrary items. The elements don't need to be of the same datatype. Its length is variable and every item can be replaced or deleted after assignment, i.e. a list is _mutable_.\n",
        "\n",
        "**List-Properties:**\n",
        "* stores data from any datatype (can be mixed as well)\n",
        "* iterable\n",
        "* mutable\n",
        "* can contain mutable items\n",
        "\n",
        "**Python-Syntax:** `list_name = [item0, item1, item2, ...]`"
      ]
    },
    {
      "cell_type": "code",
      "execution_count": null,
      "id": "3c7cfbad-d3b4-4e7f-862f-921ae8c6b4f8",
      "metadata": {
        "id": "3c7cfbad-d3b4-4e7f-862f-921ae8c6b4f8"
      },
      "outputs": [],
      "source": [
        "list_of_arbitrary_items = [1, 2, 3.5, 4, 4, \"I am a list item (*-*)\"]"
      ]
    },
    {
      "cell_type": "markdown",
      "id": "5af980a9-bee6-42c8-b8be-2336dea7e210",
      "metadata": {
        "id": "5af980a9-bee6-42c8-b8be-2336dea7e210"
      },
      "source": [
        "Every list item can be accessed by its index. Keep in mind, that the **indices start at `0`**! Usually, you iterate through the list from the 'left' to the 'right' but you can also go the other way around with negative indices. In this case, **the last item would be at index `-1`**. But what happens if you want to use an index which is higher than the index of the last item? Python gently forces you to correct this mistake and raises an `IndexError`. \n",
        "\n",
        "**Python-Syntax:** `list_name[index]`"
      ]
    },
    {
      "cell_type": "code",
      "execution_count": null,
      "id": "7a68341e-448e-43ad-927e-f7b94eca2be8",
      "metadata": {
        "id": "7a68341e-448e-43ad-927e-f7b94eca2be8"
      },
      "outputs": [],
      "source": [
        "print(list_of_arbitrary_items[0])    # access first list-item\n",
        "print(list_of_arbitrary_items[3])    # access fourth list-item\n",
        "print(list_of_arbitrary_items[-1])   # access the last list-item\n",
        "print(list_of_arbitrary_items[6])    # This does not work, as the list only contains 6 items!"
      ]
    },
    {
      "cell_type": "markdown",
      "id": "85eb75f5-9bab-4d37-8185-81ec3555d6ad",
      "metadata": {
        "id": "85eb75f5-9bab-4d37-8185-81ec3555d6ad"
      },
      "source": [
        "In some cases you don't know the values you want to store in the first place. It is common practice to define an empty list which will be filled with data at a later time. \n",
        "\n",
        "**Python-Syntax:** `list_name = []` "
      ]
    },
    {
      "cell_type": "code",
      "execution_count": null,
      "id": "8f9c6e24-87a2-4752-aaaa-871940675828",
      "metadata": {
        "id": "8f9c6e24-87a2-4752-aaaa-871940675828"
      },
      "outputs": [],
      "source": [
        "numbers = []     # this list will be filled later\n",
        "print(numbers)"
      ]
    },
    {
      "cell_type": "markdown",
      "id": "6b5580b8-4256-4f44-83d6-2825901fe21f",
      "metadata": {
        "id": "6b5580b8-4256-4f44-83d6-2825901fe21f"
      },
      "source": [
        "As we already know, lists are mutable datatypes. In the next steps, we will try to overwrite (i.e. replace) an already existing item using its index and add a completely new item. The new item will be appended to the end of the already exisiting list. \n",
        "\n",
        "**Python-Syntax:** \n",
        "* replace an item: `list_name[index] = new_value`\n",
        "* add an item to the end: `list_name.append(new_value)`\n",
        "* add an item before a given index: `list_name.insert(index, new_value)`\n",
        "    * add an item to the beginning: `list_name.insert(0, new_value)`\n"
      ]
    },
    {
      "cell_type": "code",
      "execution_count": null,
      "id": "0c930749-c50e-4dc7-b299-80c6032e0731",
      "metadata": {
        "id": "0c930749-c50e-4dc7-b299-80c6032e0731"
      },
      "outputs": [],
      "source": [
        "# replace an item:\n",
        "print(list_of_arbitrary_items)     # before the replacement\n",
        "list_of_arbitrary_items[2] = 9\n",
        "print(list_of_arbitrary_items)     # after the replacement\n",
        "\n",
        "# add items to the end:\n",
        "list_of_arbitrary_items.append(1)\n",
        "list_of_arbitrary_items.append(2)\n",
        "print(list_of_arbitrary_items)\n",
        "\n",
        "# insert items at arbitrary positions:\n",
        "list_of_arbitrary_items.insert(0, \"I'm new\")\n",
        "print(list_of_arbitrary_items)"
      ]
    },
    {
      "cell_type": "markdown",
      "id": "d9fb3a0e-e7b0-4ff4-a159-c5266212e860",
      "metadata": {
        "id": "d9fb3a0e-e7b0-4ff4-a159-c5266212e860"
      },
      "source": [
        "With `append`, you can **only add one item at a time**. "
      ]
    },
    {
      "cell_type": "code",
      "execution_count": null,
      "id": "66c441d7-82e2-41a9-b0ac-20e96e7e5143",
      "metadata": {
        "id": "66c441d7-82e2-41a9-b0ac-20e96e7e5143"
      },
      "outputs": [],
      "source": [
        "numbers.append(1, 2)        # This won't work!\n",
        "#numbers.append([1, 2, 3])   # This works, but creates a nested list\n",
        "print(numbers)"
      ]
    },
    {
      "cell_type": "markdown",
      "id": "f149ca82-a2d2-4865-9361-e5b905e848d0",
      "metadata": {
        "id": "f149ca82-a2d2-4865-9361-e5b905e848d0"
      },
      "source": [
        "But behold! There is a way to add more items at a time with the power of mathematics. As you can see in the code below, it is possible to add all items from one list to another list."
      ]
    },
    {
      "cell_type": "code",
      "execution_count": null,
      "id": "df559039-7f83-4654-9ba1-1a9e5053328c",
      "metadata": {
        "id": "df559039-7f83-4654-9ba1-1a9e5053328c"
      },
      "outputs": [],
      "source": [
        "numbers += [4,3,2,1] \n",
        "# numbers.extend([4,3,2,1])   # .extend() works too!\n",
        "# numbers.append([4,3,2,1])   # .append() adds the list as an item not all the elements to the list! Be careful there!\n",
        "print(numbers)"
      ]
    },
    {
      "cell_type": "markdown",
      "id": "cdc8bbe8-0bc1-4ba8-9f16-d198c42c1f77",
      "metadata": {
        "id": "cdc8bbe8-0bc1-4ba8-9f16-d198c42c1f77"
      },
      "source": [
        "If you want to know, how many items are stored in you list (e.g. to avoid an `IndexError`) you can use the same function you would use for strings:"
      ]
    },
    {
      "cell_type": "code",
      "execution_count": null,
      "id": "5b2c8f5d-711c-4744-84ec-6742492f57c6",
      "metadata": {
        "id": "5b2c8f5d-711c-4744-84ec-6742492f57c6"
      },
      "outputs": [],
      "source": [
        "len(numbers)"
      ]
    },
    {
      "cell_type": "markdown",
      "id": "74b53b52-f434-4213-95d7-c8418aaeea45",
      "metadata": {
        "id": "74b53b52-f434-4213-95d7-c8418aaeea45"
      },
      "source": [
        "Sometimes you have the value of an item in the list and want to find its index. For this kind of problem we can use the `index`-method. This method **returns the index of the item with the known value** (starting from the 'left'). If the list contains no item with that kind of value, python will raise a `ValueError`. One important thing to know: It only returns the index of the first occurring instance! This means, if you have equal elements, you only get the index of the first item.  \n",
        "\n",
        "**Python-Syntax:** `list_name.index(element_value)`"
      ]
    },
    {
      "cell_type": "code",
      "execution_count": null,
      "id": "293a9046-cc8a-48ad-8f7e-82f2afd6d69d",
      "metadata": {
        "id": "293a9046-cc8a-48ad-8f7e-82f2afd6d69d"
      },
      "outputs": [],
      "source": [
        "integers = [10, 20, 30, 40, 25, 20, 100]"
      ]
    },
    {
      "cell_type": "code",
      "execution_count": null,
      "id": "baa20833-2ae9-41c3-a4c1-fc341d815ba2",
      "metadata": {
        "id": "baa20833-2ae9-41c3-a4c1-fc341d815ba2"
      },
      "outputs": [],
      "source": [
        "print(integers.index(25))\n",
        "print(integers.index(20))    # The list contains two items with the value 20, but only the index of the first one will be returned!  \n",
        "print(integers.index(420))   # This will raise an ValueError since no items with value 420 is stored in the list. "
      ]
    },
    {
      "cell_type": "markdown",
      "id": "8eae79f2-1891-467b-8c8f-e9267f715471",
      "metadata": {
        "id": "8eae79f2-1891-467b-8c8f-e9267f715471"
      },
      "source": [
        "If you want to count certain items in a list you can use `count`:\n",
        "\n",
        "**Python-Syntax:** `list_name.count(value_to_count)`"
      ]
    },
    {
      "cell_type": "code",
      "execution_count": null,
      "id": "a65e6cee-51fe-426f-b966-3a0d3d244201",
      "metadata": {
        "id": "a65e6cee-51fe-426f-b966-3a0d3d244201"
      },
      "outputs": [],
      "source": [
        "print(integers.count(10))\n",
        "print(integers.count(20))\n",
        "print(integers.count(420))   # This will return 0 since no item with value 420 is stored in the list. "
      ]
    },
    {
      "cell_type": "markdown",
      "id": "a4f036b5-3769-458d-951b-90de2adc64e8",
      "metadata": {
        "id": "a4f036b5-3769-458d-951b-90de2adc64e8"
      },
      "source": [
        "Lists can also be sorted, which is quite convenient e.g. for ranking-tasks. This will only work if all items can be meaningfully compared to each other. So sorting a list of numbers (integers and/or floats) works, as does sorting a list of strings, but a list containing both numbers and strings will fail. Numbers are sorted ascending by value, strings are sorted alphabetically.\n",
        "\n",
        "**Python-Syntax:** `sorted(list_name)`"
      ]
    },
    {
      "cell_type": "code",
      "execution_count": null,
      "id": "4d2c06c3-a140-4ed5-acff-2704600aa28c",
      "metadata": {
        "id": "4d2c06c3-a140-4ed5-acff-2704600aa28c"
      },
      "outputs": [],
      "source": [
        "print(integers)\n",
        "sorted_integers = sorted(integers)\n",
        "print(sorted_integers)\n",
        "\n",
        "# descending sorting is possible by passing an optional argument:\n",
        "sorted_integers = sorted(integers, reverse=True)\n",
        "print(sorted_integers)\n",
        "\n",
        "list_of_letters = [\"p\",\"y\",\"t\",\"h\",\"o\",\"n\"]\n",
        "print(list_of_letters)\n",
        "sorted_list_of_letters = sorted(list_of_letters)\n",
        "print(sorted_list_of_letters)"
      ]
    },
    {
      "cell_type": "markdown",
      "id": "478647f9-3dd3-4899-bbf3-8bff080c55fd",
      "metadata": {
        "id": "478647f9-3dd3-4899-bbf3-8bff080c55fd"
      },
      "source": [
        "### Tuples\n",
        "\n",
        "Tuples appear similar to lists, but have an important difference - once defined, a tuple cannot be changed! \n",
        "\n",
        "**Tuple-Properties:**\n",
        "* stores data from any datatype (can be mixed as well)\n",
        "* iterable\n",
        "* **immutable**\n",
        "* cannot contain mutable objects (like lists)\n",
        "\n",
        "**Python-Syntax:** \n",
        "* `tuple_name = (item0, item1, item2, ...)`\n",
        "* `tuple_name = item0, item1, item2, ...`  \n"
      ]
    },
    {
      "cell_type": "code",
      "execution_count": null,
      "id": "c7e402d8-725d-42c9-9d9a-cb3bec17b6f5",
      "metadata": {
        "id": "c7e402d8-725d-42c9-9d9a-cb3bec17b6f5"
      },
      "outputs": [],
      "source": [
        "some_words_and_numbers = ('hi', 'bye', 15)  # this way is preferred as it's more explicit\n",
        "newspapers = 'Die_Presse', 'Der_Standard', 'FAZ'\n",
        "\n",
        "#Special tuples\n",
        "one_element_tuple = ('singleton',)\n",
        "empty_tuple = ()\n",
        "print(newspapers)\n",
        "print(one_element_tuple)"
      ]
    },
    {
      "cell_type": "markdown",
      "id": "d9f09629-f446-4fd3-afde-d29148ba65ce",
      "metadata": {
        "id": "d9f09629-f446-4fd3-afde-d29148ba65ce"
      },
      "source": [
        "Attempting to replace an item in a tuple will fail:"
      ]
    },
    {
      "cell_type": "code",
      "execution_count": null,
      "id": "3d761231-2147-447a-ac3b-ff02a2272a2c",
      "metadata": {
        "id": "3d761231-2147-447a-ac3b-ff02a2272a2c"
      },
      "outputs": [],
      "source": [
        "newspapers[2] = 'Die_Zeit'  #  <- Not a valid action for tuples!"
      ]
    },
    {
      "cell_type": "markdown",
      "id": "3e76e575",
      "metadata": {
        "id": "3e76e575"
      },
      "source": [
        "However, modifying something mutable which is part of a tuple is allowed:"
      ]
    },
    {
      "cell_type": "code",
      "execution_count": null,
      "id": "850c66b5",
      "metadata": {
        "id": "850c66b5"
      },
      "outputs": [],
      "source": [
        "magic_square = (\n",
        "    [9, 2, 4],\n",
        "    [5, 7, 3],\n",
        "    [1, 6, 7],\n",
        ")\n",
        "\n",
        "magic_square[2][2] = 8\n",
        "print(magic_square)"
      ]
    },
    {
      "cell_type": "markdown",
      "id": "39da2119-2fbf-442c-861e-fa014a05de82",
      "metadata": {
        "tags": [],
        "id": "39da2119-2fbf-442c-861e-fa014a05de82"
      },
      "source": [
        "### Sets\n",
        "\n",
        "Like lists and tuples, sets are data structures to work with a collection of data. The main difference is that sets are unordered and therefore unindexed. Their most exciting property is that they *don't allow duplicates*.\n",
        "\n",
        "**Set properties:**\n",
        "* Resemble mathematical sets   \n",
        "* Sets are written with curly brackets: `{element1, element2}`  \n",
        "* Unordered collection with no duplicate elements  \n",
        "* Elements have to be immutable but a set itself is mutable  \n",
        "* Support mathematical operations, e.g. union, intersection, difference  \n",
        "\n",
        "**Python-Syntax:** `set_name = {item0, item1, item2, ...}`\n",
        "\n",
        "There are two different ways to declare a set. One is with the function `set()`. Like in the example below, you can create a set from another iterable (like a list or set). You can see that it is a set now because of the curly brackets."
      ]
    },
    {
      "cell_type": "code",
      "execution_count": null,
      "id": "ac021ed2-652f-4d32-af89-2bc5f26cd3b3",
      "metadata": {
        "id": "ac021ed2-652f-4d32-af89-2bc5f26cd3b3"
      },
      "outputs": [],
      "source": [
        "a = [1, 2, 3, 4, 4, 5] # list\n",
        "b = (1, 3, 4, 5, 6, 6, 6) # tuple\n",
        "c = set(a)\n",
        "d = set(b)\n",
        "print(c)\n",
        "print(d)"
      ]
    },
    {
      "cell_type": "markdown",
      "id": "6e99486f-1d07-4960-9f53-1252a009b3fb",
      "metadata": {
        "id": "6e99486f-1d07-4960-9f53-1252a009b3fb"
      },
      "source": [
        "But you can also declare a set implicitly with curly brackets (`{}`) like in the example below."
      ]
    },
    {
      "cell_type": "code",
      "execution_count": null,
      "id": "d62fcae5-707d-431c-9863-f5978654e3b1",
      "metadata": {
        "tags": [],
        "id": "d62fcae5-707d-431c-9863-f5978654e3b1"
      },
      "outputs": [],
      "source": [
        "backpack = {\"notebook\", \"phone\", \"key\", \"gum\", \"pen\"}\n",
        "\n",
        "print(backpack)"
      ]
    },
    {
      "cell_type": "markdown",
      "id": "f9943897-59b3-444a-a740-742f0b45afbd",
      "metadata": {
        "id": "f9943897-59b3-444a-a740-742f0b45afbd"
      },
      "source": [
        "**Be cautious when you want to create an empty set - you can't create it with `empty_set = {}`!**  \n",
        "This would be another data structure named dict, which we'll get to soon."
      ]
    },
    {
      "cell_type": "code",
      "execution_count": null,
      "id": "19d9004c-6b29-4550-b2ce-8d462dca555f",
      "metadata": {
        "id": "19d9004c-6b29-4550-b2ce-8d462dca555f"
      },
      "outputs": [],
      "source": [
        "empty_set = set()\n",
        "print(empty_set,  type(empty_set))\n",
        "\n",
        "not_an_empty_set = {} # this would be an empty dict!\n",
        "print(not_an_empty_set, type(not_an_empty_set))"
      ]
    },
    {
      "cell_type": "markdown",
      "id": "69945431-ce5b-4b5f-a68b-72554d6759d2",
      "metadata": {
        "id": "69945431-ce5b-4b5f-a68b-72554d6759d2"
      },
      "source": [
        "#### Add Elements `.add()`"
      ]
    },
    {
      "cell_type": "markdown",
      "id": "4348ddeb-2a5d-48fb-bde0-5865e3281e05",
      "metadata": {
        "id": "4348ddeb-2a5d-48fb-bde0-5865e3281e05"
      },
      "source": [
        "But what do you need to do when you want to fill the set? `empty_set += {\"green\"}` won't work. Use the method `empty_set.add(\"green\")` instead."
      ]
    },
    {
      "cell_type": "code",
      "execution_count": null,
      "id": "e027ef0b-8adf-49f3-a7eb-e4aa55ab688c",
      "metadata": {
        "id": "e027ef0b-8adf-49f3-a7eb-e4aa55ab688c"
      },
      "outputs": [],
      "source": [
        "backpack = {\"notebook\", \"phone\", \"key\", \"gum\", \"wallet\"}\n",
        "print(backpack)"
      ]
    },
    {
      "cell_type": "code",
      "execution_count": null,
      "id": "9a75d3ed-60d1-4e2c-ab6b-229a799bc560",
      "metadata": {
        "id": "9a75d3ed-60d1-4e2c-ab6b-229a799bc560"
      },
      "outputs": [],
      "source": [
        "# backpack += {\"phone charger\"} # This does not work...\n",
        "backpack.add(\"phone charger\")\n",
        "print(backpack)"
      ]
    },
    {
      "cell_type": "markdown",
      "id": "287a3287-0935-4b46-9118-2a8df5049455",
      "metadata": {
        "id": "287a3287-0935-4b46-9118-2a8df5049455"
      },
      "source": [
        "#### Remove Elements `.remove()`\n",
        "\n",
        "One element should not be in the set? No problem - you can easily remove it with `.remove()`."
      ]
    },
    {
      "cell_type": "code",
      "execution_count": null,
      "id": "9adfc3ed-fa27-41e3-8bfa-f22699164553",
      "metadata": {
        "id": "9adfc3ed-fa27-41e3-8bfa-f22699164553"
      },
      "outputs": [],
      "source": [
        "backpack = {\"notebook\", \"phone\", \"key\", \"gum\", \"wallet\"}\n",
        "print(backpack)"
      ]
    },
    {
      "cell_type": "code",
      "execution_count": null,
      "id": "9d5f1d0f-c537-4222-a8f7-20656e6fdb25",
      "metadata": {
        "id": "9d5f1d0f-c537-4222-a8f7-20656e6fdb25"
      },
      "outputs": [],
      "source": [
        "backpack.remove(\"gum\")\n",
        "print(backpack)"
      ]
    },
    {
      "cell_type": "markdown",
      "id": "3ff53782",
      "metadata": {
        "id": "3ff53782"
      },
      "source": [
        "Try to execute the cell above again! A `KeyError` is raised because `\"gum\"` now isn't part of the set anymore."
      ]
    },
    {
      "cell_type": "markdown",
      "id": "b32e415b-8a06-4c8c-9357-cf68fecc0afb",
      "metadata": {
        "id": "b32e415b-8a06-4c8c-9357-cf68fecc0afb"
      },
      "source": [
        "#### Mixed Elements:\n",
        "You can mix the data types in a set as you like."
      ]
    },
    {
      "cell_type": "code",
      "execution_count": null,
      "id": "d93251b3-279c-4701-90ff-669c751e4277",
      "metadata": {
        "id": "d93251b3-279c-4701-90ff-669c751e4277"
      },
      "outputs": [],
      "source": [
        "{1, 2, 3, 3, 5, 6, 4, 3, 3, 3.1, \"A string\", False}"
      ]
    },
    {
      "cell_type": "markdown",
      "id": "5e6a92f8-dee6-41ed-92f7-7e2dd047e132",
      "metadata": {
        "id": "5e6a92f8-dee6-41ed-92f7-7e2dd047e132"
      },
      "source": [
        "Note that equally valued integers and floats are considered identical in a set. The element occuring first is retained:"
      ]
    },
    {
      "cell_type": "code",
      "execution_count": null,
      "id": "bae5147d-407f-4c20-9f1f-1525cdd4af6a",
      "metadata": {
        "id": "bae5147d-407f-4c20-9f1f-1525cdd4af6a"
      },
      "outputs": [],
      "source": [
        "{1, 1.0}"
      ]
    },
    {
      "cell_type": "code",
      "execution_count": null,
      "id": "5dbac121-7954-47ec-aa47-e4a20ff2b9be",
      "metadata": {
        "id": "5dbac121-7954-47ec-aa47-e4a20ff2b9be"
      },
      "outputs": [],
      "source": [
        "{1.0, 1}"
      ]
    },
    {
      "cell_type": "markdown",
      "id": "bf0b4188-edf7-4ae8-97cc-2429ec3c7673",
      "metadata": {
        "id": "bf0b4188-edf7-4ae8-97cc-2429ec3c7673"
      },
      "source": [
        "What happens, if you have a list in a set for example?"
      ]
    },
    {
      "cell_type": "code",
      "execution_count": null,
      "id": "834ecf99-977f-4359-ac57-ceaca8bace68",
      "metadata": {
        "id": "834ecf99-977f-4359-ac57-ceaca8bace68"
      },
      "outputs": [],
      "source": [
        "{1, 2, 3, [1,2,3]}"
      ]
    },
    {
      "cell_type": "markdown",
      "id": "19ddf5be-1597-480a-86aa-460b37c722fa",
      "metadata": {
        "id": "19ddf5be-1597-480a-86aa-460b37c722fa"
      },
      "source": [
        "#### Unhashable?\n",
        "So apparently sets can not contain \"unhashable\" things... but what does \"hashable\" even mean?\n",
        "\n",
        "A hash function is any function that can be used to map data of arbitrary size to fixed-size values. This makes it easy to compare arbitrary elements to each other. However, Python requires an object's hash to be constant over its lifetime. For something mutable (like a list) this can't be guaranteed, so only immutable types are hashable.\n",
        "\n",
        "More information on hashing?\n",
        "- https://en.wikipedia.org/wiki/Hash_function\n",
        "- https://runestone.academy/runestone/books/published/pythonds/SortSearch/Hashing.html\n",
        "- https://docs.python.org/3/glossary.html#hashable\n",
        "\n",
        "More information about mutability?\n",
        "- https://towardsdatascience.com/immutable-vs-mutable-data-types-in-python-e8a9a6fcfbdc\n",
        "- https://docs.python.org/3/glossary.html"
      ]
    },
    {
      "cell_type": "markdown",
      "id": "9bfa24d0-5db6-4ee2-83d6-9f87460a31cd",
      "metadata": {
        "id": "9bfa24d0-5db6-4ee2-83d6-9f87460a31cd"
      },
      "source": [
        "#### One string-element in a set?\n",
        "\n",
        "Be careful with sets with a string as its only element, because funny things can happen:"
      ]
    },
    {
      "cell_type": "code",
      "execution_count": null,
      "id": "c5cfd740-0740-4f6f-aa21-f75d250530a8",
      "metadata": {
        "id": "c5cfd740-0740-4f6f-aa21-f75d250530a8"
      },
      "outputs": [],
      "source": [
        "one_element_set = set('singleton')\n",
        "print(one_element_set)"
      ]
    },
    {
      "cell_type": "code",
      "execution_count": null,
      "id": "70c2738b-b01c-47c6-9360-ab25e63fa0e8",
      "metadata": {
        "id": "70c2738b-b01c-47c6-9360-ab25e63fa0e8"
      },
      "outputs": [],
      "source": [
        "one_element_set = {'singleton'}\n",
        "print(one_element_set)"
      ]
    },
    {
      "cell_type": "code",
      "execution_count": null,
      "id": "8ceca0c1-21e0-4fbd-823c-558372650255",
      "metadata": {
        "id": "8ceca0c1-21e0-4fbd-823c-558372650255"
      },
      "outputs": [],
      "source": [
        "one_element_set = set(['singleton'])\n",
        "print(one_element_set)"
      ]
    },
    {
      "cell_type": "code",
      "execution_count": null,
      "id": "b530bea0-ea94-4f36-abde-d71d4fe532b2",
      "metadata": {
        "id": "b530bea0-ea94-4f36-abde-d71d4fe532b2"
      },
      "outputs": [],
      "source": [
        "one_element_set = {['singleton']}\n",
        "print(one_element_set)"
      ]
    },
    {
      "cell_type": "markdown",
      "id": "e7c2ad2d-1241-42b7-9edf-357d9d53d5e0",
      "metadata": {
        "id": "e7c2ad2d-1241-42b7-9edf-357d9d53d5e0"
      },
      "source": [
        "#### Set operations: `&`, `|`, `^`, `-`\n",
        "\n",
        "Sets have very handy operations to make intersections, unions, or differeces"
      ]
    },
    {
      "cell_type": "code",
      "execution_count": null,
      "id": "17572321-869d-4588-8e1c-b302406a703f",
      "metadata": {
        "tags": [],
        "id": "17572321-869d-4588-8e1c-b302406a703f"
      },
      "outputs": [],
      "source": [
        "backpack = {'notebook', 'phone', 'key', 'gum', 'wallet'}\n",
        "other_bag = {'key', 'sandwich', 'bottle', 'phone'}\n",
        "\n",
        "print(\"Intersection (AND): \", backpack & other_bag)          # Items in both bags\n",
        "print(\"Union (OR): \", backpack | other_bag)                  # Combine both bags\n",
        "print(\"Symmetric Difference (XOR): \", backpack ^ other_bag)  # Items in only one of the bags\n",
        "print(\"Difference: \", backpack - other_bag)                  # Items in the first, but not the second bag\n",
        "print(\"Difference: \", other_bag - backpack)                  # Items in the second, but not the first bag"
      ]
    },
    {
      "cell_type": "markdown",
      "id": "6cfec097-675c-4230-a725-d96b25176304",
      "metadata": {
        "id": "6cfec097-675c-4230-a725-d96b25176304"
      },
      "source": [
        "Combining these operators with the assignment operator (`=`) gives a way to add or remove one or more elements to or from a set:"
      ]
    },
    {
      "cell_type": "code",
      "execution_count": null,
      "id": "b48eea49-f098-43c1-b422-ab1edb3d5d76",
      "metadata": {
        "id": "b48eea49-f098-43c1-b422-ab1edb3d5d76"
      },
      "outputs": [],
      "source": [
        "backpack = {\"mobile\", \"pen\", \"paper\"}\n",
        "\n",
        "backpack |= {\"pencil\"}\n",
        "print(backpack)\n",
        "backpack -= {\"pen\", \"mobile\"}\n",
        "print(backpack)"
      ]
    },
    {
      "cell_type": "markdown",
      "id": "separate-throw",
      "metadata": {
        "id": "separate-throw"
      },
      "source": [
        "## `for`-Loops\n",
        "`for`-loops iterate over sequences (like lists, tuples, or sets). Often in programming, we want to perform the same action using different input data. Instead of writing this down X times we define a loop which does this for us.\n",
        "\n",
        "The `for`-loop in python is defined as follows:\n",
        "```python\n",
        "for variable in sequence:\n",
        "    # do stuff\n",
        "```\n",
        "\n",
        "So we start with the keyword `for` followed by a variable name. This variable is created here and contains one element of the sequence, which changes every iteration of the loop until the whole sequence is finished, or we as programmers stop the loop. Next comes the `in` keyword followed by the sequence. Finally, the part which should happen at each iteration is _indented_ below the `for`-statement (i.e. the line starts 4 spaces further to the right).\n",
        "\n",
        "Let's have a look at a for loop, looping over this new amazing datatype we just learned, a `list`:"
      ]
    },
    {
      "cell_type": "code",
      "execution_count": null,
      "id": "flying-fundamentals",
      "metadata": {
        "id": "flying-fundamentals"
      },
      "outputs": [],
      "source": [
        "data = [0, 1, 2, 3, 4, 5, 6]\n",
        "\n",
        "for element in data:\n",
        "    print(f\"Element in list: {element}\")"
      ]
    },
    {
      "cell_type": "markdown",
      "id": "opposite-environment",
      "metadata": {
        "id": "opposite-environment"
      },
      "source": [
        "`for`-loops can iterate over arbitrary sequences:"
      ]
    },
    {
      "cell_type": "code",
      "execution_count": null,
      "id": "directed-spanking",
      "metadata": {
        "id": "directed-spanking"
      },
      "outputs": [],
      "source": [
        "# iterate over a string\n",
        "hello_world = \"Hello World!\"\n",
        "for letter in hello_world:\n",
        "    print(f\"Letter in tuple: {letter}\")"
      ]
    },
    {
      "cell_type": "code",
      "execution_count": null,
      "id": "frozen-bosnia",
      "metadata": {
        "id": "frozen-bosnia"
      },
      "outputs": [],
      "source": [
        "# iterate over a tuple   \n",
        "# note that the iterable does not need to be stored in a variable, but can\n",
        "# also be written after `in` as a 'literal':\n",
        "for element in (0, 1, 2, 3, 4, 5, 6):\n",
        "    print(f\"Element in tuple: {element}\")"
      ]
    },
    {
      "cell_type": "markdown",
      "id": "25fa7e0a",
      "metadata": {
        "id": "25fa7e0a"
      },
      "source": [
        "## Dictionaries\n",
        "- [Video tutorial (10 min)](https://www.youtube.com/watch?v=daefaLgNkw0)\n",
        "- [Library reference](https://docs.python.org/3/library/stdtypes.html#mapping-types-dict)\n",
        "\n",
        "Dictionaries provide a way to map values that are associated with one another.    \n",
        "This means that they are a collection of `<key>: <value>` pairs called _items_.  \n",
        "A dictionary begins and ends with curly brackets: "
      ]
    },
    {
      "cell_type": "code",
      "execution_count": null,
      "id": "9b7775fa-9b27-40f2-9524-8e292d11ff76",
      "metadata": {
        "id": "9b7775fa-9b27-40f2-9524-8e292d11ff76"
      },
      "outputs": [],
      "source": [
        "empty_dict = {} # just an empty dictionary\n",
        "# empty_dict = dict()\n",
        "empty_dict"
      ]
    },
    {
      "cell_type": "markdown",
      "id": "1c260128-b9f5-4ee6-985a-0cd459dc98aa",
      "metadata": {
        "id": "1c260128-b9f5-4ee6-985a-0cd459dc98aa"
      },
      "source": [
        "Each _item_ consists of a _key_ and a _value_. Individual items are seperated with commas.   \n",
        "\n",
        "**Keys**: Must be hashable. So they can only be strings, numbers, and tuples (tuples if they only contain hashable elements).  \n",
        "**Values**: Can be hashable or unhashable, i.e. totally arbitrary. So they can be strings, numbers, lists, sets or even other dictionaries.  "
      ]
    },
    {
      "cell_type": "code",
      "execution_count": 1,
      "id": "cf5b9d06-2d83-4445-b279-6d8a69b513d1",
      "metadata": {
        "tags": [],
        "id": "cf5b9d06-2d83-4445-b279-6d8a69b513d1",
        "outputId": "7c4e96e0-0e0c-42f3-cb17-eb60cafeb420",
        "colab": {
          "base_uri": "https://localhost:8080/"
        }
      },
      "outputs": [
        {
          "output_type": "execute_result",
          "data": {
            "text/plain": [
              "{'city': 'Graz',\n",
              " 'family_name': ['Smith', 'Williams'],\n",
              " 'name': 'Anna',\n",
              " 'phone': 12345678}"
            ]
          },
          "metadata": {},
          "execution_count": 1
        }
      ],
      "source": [
        "contact_info = {'name': 'Anna', 'family_name': ['Smith', 'Williams'], 'phone': 12345678, 'city': 'Graz'}\n",
        "contact_info"
      ]
    },
    {
      "cell_type": "markdown",
      "id": "22acbfc6-6c02-48cd-923b-55514a1b006a",
      "metadata": {
        "id": "22acbfc6-6c02-48cd-923b-55514a1b006a"
      },
      "source": [
        "What happens if we try to use a `list` as a key?"
      ]
    },
    {
      "cell_type": "code",
      "execution_count": 2,
      "id": "bde7c59f-07e7-4e07-abd7-9d5a838a1d16",
      "metadata": {
        "id": "bde7c59f-07e7-4e07-abd7-9d5a838a1d16",
        "outputId": "3057c30c-e953-427a-e545-7a7be4267b1f",
        "colab": {
          "base_uri": "https://localhost:8080/",
          "height": 164
        }
      },
      "outputs": [
        {
          "output_type": "error",
          "ename": "TypeError",
          "evalue": "ignored",
          "traceback": [
            "\u001b[0;31m---------------------------------------------------------------------------\u001b[0m",
            "\u001b[0;31mTypeError\u001b[0m                                 Traceback (most recent call last)",
            "\u001b[0;32m<ipython-input-2-be5497418ace>\u001b[0m in \u001b[0;36m<module>\u001b[0;34m()\u001b[0m\n\u001b[0;32m----> 1\u001b[0;31m \u001b[0mcontact_info\u001b[0m \u001b[0;34m=\u001b[0m \u001b[0;34m{\u001b[0m\u001b[0;34m[\u001b[0m\u001b[0;34m'name'\u001b[0m\u001b[0;34m,\u001b[0m \u001b[0;34m'surname'\u001b[0m\u001b[0;34m]\u001b[0m\u001b[0;34m:\u001b[0m \u001b[0;34m'Anna Smith'\u001b[0m\u001b[0;34m}\u001b[0m\u001b[0;34m\u001b[0m\u001b[0;34m\u001b[0m\u001b[0m\n\u001b[0m",
            "\u001b[0;31mTypeError\u001b[0m: unhashable type: 'list'"
          ]
        }
      ],
      "source": [
        "contact_info = {['name', 'surname']: 'Anna Smith'}"
      ]
    },
    {
      "cell_type": "markdown",
      "id": "9c887582-0587-4b9e-b48c-0906fc28f549",
      "metadata": {
        "id": "9c887582-0587-4b9e-b48c-0906fc28f549"
      },
      "source": [
        "This produces a `TypeError`! Since a `list` can be changed, its hash value can not be guaranteed not to change over its lifetime, thus it is unhashable."
      ]
    },
    {
      "cell_type": "markdown",
      "id": "0f729e0b-482b-4903-97f3-67ba09b770b3",
      "metadata": {
        "id": "0f729e0b-482b-4903-97f3-67ba09b770b3"
      },
      "source": [
        "If we want to look at one specific item in the dictionary we don't access it with indices or slices (as we do with lists), but with its keys:"
      ]
    },
    {
      "cell_type": "code",
      "execution_count": 3,
      "id": "ad90635e-6355-4f9d-9ccf-f3be72ebb67a",
      "metadata": {
        "id": "ad90635e-6355-4f9d-9ccf-f3be72ebb67a",
        "outputId": "5848da58-5e7f-46db-f59d-e864dedf5a1e",
        "colab": {
          "base_uri": "https://localhost:8080/",
          "height": 37
        }
      },
      "outputs": [
        {
          "output_type": "execute_result",
          "data": {
            "text/plain": [
              "'Anna'"
            ],
            "application/vnd.google.colaboratory.intrinsic+json": {
              "type": "string"
            }
          },
          "metadata": {},
          "execution_count": 3
        }
      ],
      "source": [
        "key = \"name\"\n",
        "# key = \"wrong key\" # this will produce a KeyError\n",
        "contact_info[key]"
      ]
    },
    {
      "cell_type": "markdown",
      "id": "eda78968-b5e9-4591-8da6-78969e93c36d",
      "metadata": {
        "id": "eda78968-b5e9-4591-8da6-78969e93c36d"
      },
      "source": [
        "Python also has a set of built-in methods that allow access to all keys, all values, or all items:"
      ]
    },
    {
      "cell_type": "code",
      "execution_count": null,
      "id": "b5125be2-a6a3-4aff-a604-613604feafb5",
      "metadata": {
        "tags": [],
        "id": "b5125be2-a6a3-4aff-a604-613604feafb5"
      },
      "outputs": [],
      "source": [
        "print(\"Dictionary keys:\", contact_info.keys())\n",
        "print(\"Dictionary values:\", contact_info.values())\n",
        "print(\"Dictionary Items:\", contact_info.items())"
      ]
    },
    {
      "cell_type": "markdown",
      "id": "b514a9bd-49ea-4a48-aa8b-6940c7fa446e",
      "metadata": {
        "id": "b514a9bd-49ea-4a48-aa8b-6940c7fa446e"
      },
      "source": [
        "A single `key: value` pair can be added to a dictionary using the following syntax:\n",
        "    \n",
        "```python\n",
        "dictionary[key] = value\n",
        "```\n"
      ]
    },
    {
      "cell_type": "code",
      "execution_count": 4,
      "id": "029e24e2-b86e-49d2-9547-b2945a3cff76",
      "metadata": {
        "tags": [],
        "id": "029e24e2-b86e-49d2-9547-b2945a3cff76",
        "outputId": "d7ad3f28-b6f1-4143-9a6b-c31f00c46618",
        "colab": {
          "base_uri": "https://localhost:8080/"
        }
      },
      "outputs": [
        {
          "output_type": "stream",
          "name": "stdout",
          "text": [
            "{'name': 'Anna', 'family_name': ['Smith', 'Williams'], 'phone': 12345678, 'city': 'Graz', 'mail': 'something@somewhere.at'}\n"
          ]
        }
      ],
      "source": [
        "contact_info['mail'] = \"something@somewhere.at\"\n",
        "print(contact_info)"
      ]
    },
    {
      "cell_type": "markdown",
      "id": "01e59d0e-11ca-4efd-b5a0-dc17792b8c7b",
      "metadata": {
        "id": "01e59d0e-11ca-4efd-b5a0-dc17792b8c7b"
      },
      "source": [
        "If we want to add **more than one** `key: value` pair, we can use the method  `update`:"
      ]
    },
    {
      "cell_type": "code",
      "execution_count": 5,
      "id": "7344e09d-2ef3-4ea8-86cc-6f235fb5a24b",
      "metadata": {
        "id": "7344e09d-2ef3-4ea8-86cc-6f235fb5a24b",
        "outputId": "f67c2cf0-cb79-4ddb-81bb-175a3011b4cd",
        "colab": {
          "base_uri": "https://localhost:8080/"
        }
      },
      "outputs": [
        {
          "output_type": "stream",
          "name": "stdout",
          "text": [
            "{'name': 'Anna', 'family_name': ['Smith', 'Williams'], 'phone': 12345678, 'city': 'Graz', 'mail': 'something@somewhere.at', 'country': 'Austria', 'street': 'Bahnhofstrasse'}\n"
          ]
        }
      ],
      "source": [
        "additional_data = {\"country\": \"Austria\", \"street\": \"Bahnhofstrasse\"}\n",
        "contact_info.update(additional_data)\n",
        "print(contact_info)"
      ]
    },
    {
      "cell_type": "markdown",
      "id": "bbdec708-cc03-437a-a339-75e3e5d06a65",
      "metadata": {
        "id": "bbdec708-cc03-437a-a339-75e3e5d06a65"
      },
      "source": [
        "What else can one do with dictionaries? Here are some common use cases:"
      ]
    },
    {
      "cell_type": "code",
      "execution_count": null,
      "id": "10c6da6a-a067-43e2-82a4-88a4bba97f4d",
      "metadata": {
        "id": "10c6da6a-a067-43e2-82a4-88a4bba97f4d"
      },
      "outputs": [],
      "source": [
        "# overwrite values using a key\n",
        "contact_info['phone'] = 98765"
      ]
    },
    {
      "cell_type": "code",
      "execution_count": 6,
      "id": "5c6629cf",
      "metadata": {
        "id": "5c6629cf",
        "outputId": "a4ac7e2d-f600-424c-cbcb-ae66e7180bab",
        "colab": {
          "base_uri": "https://localhost:8080/"
        }
      },
      "outputs": [
        {
          "output_type": "stream",
          "name": "stdout",
          "text": [
            "name\n",
            "family_name\n",
            "phone\n",
            "city\n",
            "mail\n",
            "country\n",
            "street\n"
          ]
        }
      ],
      "source": [
        "# iterate over a dictionary's keys:\n",
        "for key in contact_info:\n",
        "    print(key)"
      ]
    },
    {
      "cell_type": "code",
      "execution_count": null,
      "id": "337014e6",
      "metadata": {
        "id": "337014e6"
      },
      "outputs": [],
      "source": [
        "# this does the same thing, but the above version is preferred:\n",
        "for key in contact_info.keys():\n",
        "    print(key)"
      ]
    },
    {
      "cell_type": "code",
      "execution_count": 7,
      "id": "8fd3dce3",
      "metadata": {
        "id": "8fd3dce3",
        "outputId": "4ce0a603-8268-4917-8d8f-713bd3757fbf",
        "colab": {
          "base_uri": "https://localhost:8080/"
        }
      },
      "outputs": [
        {
          "output_type": "stream",
          "name": "stdout",
          "text": [
            "Anna\n",
            "['Smith', 'Williams']\n",
            "12345678\n",
            "Graz\n",
            "something@somewhere.at\n",
            "Austria\n",
            "Bahnhofstrasse\n"
          ]
        }
      ],
      "source": [
        "# iterate over a dictionary's values:\n",
        "for value in contact_info.values():\n",
        "    print(value)"
      ]
    },
    {
      "cell_type": "code",
      "execution_count": 8,
      "id": "cf92591d",
      "metadata": {
        "id": "cf92591d",
        "outputId": "5b26326e-5357-4909-b793-c97f6ddd854e",
        "colab": {
          "base_uri": "https://localhost:8080/"
        }
      },
      "outputs": [
        {
          "output_type": "stream",
          "name": "stdout",
          "text": [
            "name Anna\n",
            "family_name ['Smith', 'Williams']\n",
            "phone 12345678\n",
            "city Graz\n",
            "mail something@somewhere.at\n",
            "country Austria\n",
            "street Bahnhofstrasse\n"
          ]
        }
      ],
      "source": [
        "# iterate over both the keys and the values\n",
        "for key, value in contact_info.items():\n",
        "    print(key, value)"
      ]
    },
    {
      "cell_type": "code",
      "execution_count": 9,
      "id": "f0c4734b-aef5-4840-bc7d-e8e87076cc66",
      "metadata": {
        "id": "f0c4734b-aef5-4840-bc7d-e8e87076cc66",
        "outputId": "2b978e74-4dbb-417a-ae79-de516bfa430e",
        "colab": {
          "base_uri": "https://localhost:8080/"
        }
      },
      "outputs": [
        {
          "output_type": "stream",
          "name": "stdout",
          "text": [
            "True\n",
            "False\n"
          ]
        }
      ],
      "source": [
        "print(\"name\" in contact_info) # check if key is content of the dictionary\n",
        "print(\"wrong key\" in contact_info)"
      ]
    },
    {
      "cell_type": "code",
      "execution_count": 10,
      "id": "4acdc8a8-54b7-44e5-ac0f-62ed37364d0c",
      "metadata": {
        "id": "4acdc8a8-54b7-44e5-ac0f-62ed37364d0c",
        "outputId": "7babb4c1-6048-4b27-a929-c1c3a542f952",
        "colab": {
          "base_uri": "https://localhost:8080/"
        }
      },
      "outputs": [
        {
          "output_type": "stream",
          "name": "stdout",
          "text": [
            "{'name': 'Anna', 'family_name': ['Smith', 'Williams'], 'phone': 12345678, 'city': 'Graz', 'country': 'Austria', 'street': 'Bahnhofstrasse'}\n"
          ]
        }
      ],
      "source": [
        "del contact_info[\"mail\"] # deletes a specific key-value pair\n",
        "print(contact_info)"
      ]
    },
    {
      "cell_type": "markdown",
      "id": "c2c33b5a-f8a3-4a55-860b-ad23cf9ad73f",
      "metadata": {
        "tags": [],
        "id": "c2c33b5a-f8a3-4a55-860b-ad23cf9ad73f"
      },
      "source": [
        "## Combination of data structures"
      ]
    },
    {
      "cell_type": "markdown",
      "id": "82e0ae56-80ac-4322-931b-04b0d5f19601",
      "metadata": {
        "id": "82e0ae56-80ac-4322-931b-04b0d5f19601"
      },
      "source": [
        "Are you confused with all the different data types to store data? Maybe this helps:\n",
        "\n",
        "|    | **List**  | **Tuple**  | **Set**    | **Dict**   |\n",
        "|-|-|-|-|-|\n",
        "| **Declaration**|  `a_list = [1,\"two\", True]`      |  `a_tuple = (1,\"two\", True)`  |  `a_set = {1,\"two\", True}` | `a_dict = {1:\"one\", \"two\": 2, \"three\":True}`            |\n",
        "| **Type casting**      | list()      | tuple()       | set()           |  dict()          |\n",
        "| **Duplicates?**      | yes      | yes       | no           |  keys: no, values: yes          |\n",
        "| **Ordered?**      | yes      | yes       | no           |  yes          |\n",
        "| **Mutable?**      | yes      | no       | yes          |  yes          |\n",
        "| **subscriptable by**      | integers or slices      |integers or slices      |not subscriptable        | keys          |\n",
        "| **empty declaration**      | `empty_list = []`      | `empty_tuple = ()`        | `empty_set = set()`            |  `empty_dict = {}`           |\n"
      ]
    },
    {
      "cell_type": "markdown",
      "id": "7ed025ee-4be6-408c-9883-e2ff6275f66b",
      "metadata": {
        "id": "7ed025ee-4be6-408c-9883-e2ff6275f66b"
      },
      "source": [
        "Of course data structures can also be combined, we can create: \n",
        "* List of lists\n",
        "* Tuple of lists\n",
        "* Dictionary with lista as values\n",
        "* A dictionary within a dictionary\n",
        "* and so on ..."
      ]
    },
    {
      "cell_type": "code",
      "execution_count": 11,
      "id": "7db11276-f951-4627-9af3-380c0bfae713",
      "metadata": {
        "id": "7db11276-f951-4627-9af3-380c0bfae713",
        "outputId": "fb95fd26-cee9-4bc4-9460-2b28ada7fb3c",
        "colab": {
          "base_uri": "https://localhost:8080/"
        }
      },
      "outputs": [
        {
          "output_type": "stream",
          "name": "stdout",
          "text": [
            "[[1, 0, 0], [0, 1, 0], [0, 0, 1]]\n"
          ]
        }
      ],
      "source": [
        "# Simple matrix as list of lists\n",
        "first_row =  [1, 0, 0]\n",
        "second_row = [0, 1, 0]\n",
        "third_row =  [0, 0, 1]\n",
        "\n",
        "identity_matrix = [first_row, second_row, third_row]\n",
        "print(identity_matrix)"
      ]
    },
    {
      "cell_type": "code",
      "execution_count": 12,
      "id": "068df9ca-1887-485e-8159-8599ed374033",
      "metadata": {
        "id": "068df9ca-1887-485e-8159-8599ed374033",
        "outputId": "1aee0cbf-1990-4d76-aa22-45eb2322b6ff",
        "colab": {
          "base_uri": "https://localhost:8080/"
        }
      },
      "outputs": [
        {
          "output_type": "stream",
          "name": "stdout",
          "text": [
            "[{'name': 'Paul', 'grade': 4}, {'name': 'Lina', 'grade': 1}]\n"
          ]
        }
      ],
      "source": [
        "# Declaring a list with dictionaries as elements\n",
        "list_of_grades = [\n",
        "    {'name': 'Paul', 'grade': 4},\n",
        "    {'name': 'Lina', 'grade': 1}\n",
        "]\n",
        "\n",
        "# Key accesses with square brackets can be chained:\n",
        "print(list_of_grades)\n",
        "#print(list_of_grades[0])\n",
        "#print(list_of_grades[0]['name'])"
      ]
    },
    {
      "cell_type": "code",
      "execution_count": 13,
      "id": "d771c90e-094f-4a4f-93ad-220cfb895426",
      "metadata": {
        "id": "d771c90e-094f-4a4f-93ad-220cfb895426",
        "outputId": "af56dc4b-05ee-4141-da4c-4ce9371ec6d5",
        "colab": {
          "base_uri": "https://localhost:8080/"
        }
      },
      "outputs": [
        {
          "output_type": "stream",
          "name": "stdout",
          "text": [
            "{3739: {'name': 'Kem', 'age': 27, 'sex': 'non-binary'}, 7021: {'name': 'Marie', 'age': 22, 'sex': 'female'}}\n"
          ]
        }
      ],
      "source": [
        "# Declaring two nested dictionaries\n",
        "first_person_info = {'name': 'Kem', 'age': 27, 'sex': 'non-binary'}\n",
        "second_person_info = {'name': 'Marie', 'age': 22, 'sex': 'female'}\n",
        "patients_registry = {3739: first_person_info, 7021: second_person_info}\n",
        "\n",
        "print(patients_registry)\n",
        "# print(patients_registry[7021]['age'])\n",
        "# print(patients_registry[3739]['sex'])"
      ]
    },
    {
      "cell_type": "markdown",
      "id": "b912942f",
      "metadata": {
        "id": "b912942f"
      },
      "source": [
        "## Common mistakes and how to fix them"
      ]
    },
    {
      "cell_type": "markdown",
      "id": "2674b60c",
      "metadata": {
        "id": "2674b60c"
      },
      "source": [
        "### Basic syntax error"
      ]
    },
    {
      "cell_type": "code",
      "execution_count": null,
      "id": "dbd079c0",
      "metadata": {
        "id": "dbd079c0"
      },
      "outputs": [],
      "source": [
        "# this raises a SyntaxError hinting at a missing comma:\n",
        "total = 0\n",
        "for number in (4, 8 15, 16, 23, 42)\n",
        "total += number\n",
        "print(total)"
      ]
    },
    {
      "cell_type": "code",
      "execution_count": null,
      "id": "4027b78b",
      "metadata": {
        "id": "4027b78b"
      },
      "outputs": [],
      "source": [
        "# a for statement ends with a colon\n",
        "total = 0\n",
        "for number in (4, 8, 15, 16, 23, 42)\n",
        "total += number\n",
        "print(total)"
      ]
    },
    {
      "cell_type": "code",
      "execution_count": null,
      "id": "f1e53cbc",
      "metadata": {
        "id": "f1e53cbc"
      },
      "outputs": [],
      "source": [
        "# Lines after a colon (:) require indentation\n",
        "total = 0\n",
        "for number in (4, 8, 15, 16, 23, 42):\n",
        "total += number\n",
        "print(total)"
      ]
    },
    {
      "cell_type": "code",
      "execution_count": null,
      "id": "564f818d",
      "metadata": {
        "id": "564f818d"
      },
      "outputs": [],
      "source": [
        "# no error message this time, but the total should only be printed at the end:\n",
        "total = 0\n",
        "for number in (4, 8, 15, 16, 23, 42):\n",
        "    total += number\n",
        "    print(total)"
      ]
    },
    {
      "cell_type": "code",
      "execution_count": null,
      "id": "997dc64e",
      "metadata": {
        "id": "997dc64e"
      },
      "outputs": [],
      "source": [
        "# done :)\n",
        "total = 0\n",
        "for number in (4, 8, 15, 16, 23, 42):\n",
        "    total += number\n",
        "print(total)"
      ]
    },
    {
      "cell_type": "markdown",
      "id": "ef5df0a9",
      "metadata": {
        "id": "ef5df0a9"
      },
      "source": [
        "### Trying to iterate over dictionary items, but forgetting something:"
      ]
    },
    {
      "cell_type": "code",
      "execution_count": null,
      "id": "4d71c0f4",
      "metadata": {
        "id": "4d71c0f4"
      },
      "outputs": [],
      "source": [
        "phonebook = {\n",
        "    \"Anna Smith\": 123456789,\n",
        "    \"Leeroy Jenkins\": 987654321,\n",
        "}\n",
        "\n",
        "for name, number in phonebook: \n",
        "    print(name, number)"
      ]
    },
    {
      "cell_type": "markdown",
      "id": "ac62f74d",
      "metadata": {
        "id": "ac62f74d"
      },
      "source": [
        "To get both the key and the corresponding value on each iteration, `.items()` is required:"
      ]
    },
    {
      "cell_type": "code",
      "execution_count": null,
      "id": "d0196761",
      "metadata": {
        "id": "d0196761"
      },
      "outputs": [],
      "source": [
        "phonebook = {\n",
        "    \"Anna Smith\": 123456789,\n",
        "    \"Leeroy Jenkins\": 987654321,\n",
        "}\n",
        "\n",
        "for name, number in phonebook.items(): \n",
        "    print(name, number)"
      ]
    },
    {
      "cell_type": "markdown",
      "id": "ea4c634d",
      "metadata": {
        "id": "ea4c634d"
      },
      "source": [
        "## Best practices"
      ]
    },
    {
      "cell_type": "markdown",
      "id": "f5bb6626",
      "metadata": {
        "id": "f5bb6626"
      },
      "source": [
        "\n",
        "### Formatting\n",
        "If you have a long literal (e.g. a list, tuple, or dictionary), put each item in a new line. This makes it more readable and easier to add or remove something:\n",
        "\n",
        "##### _Don't_\n",
        "```python\n",
        "countries = [\"Afghanistan\", \"Albania\", \"Algeria\", \"American Samoa\", \"Andorra\", \"Angola\", \"Anguilla\", \"Antarctica\", \"Antigua And Barbuda\", \"Argentina\", \"Armenia\", \"Aruba\", \"Australia\", \"Austria\", \"Azerbaijan\"]\n",
        "```\n",
        "\n",
        "##### _Do_\n",
        "```python\n",
        "countries = [\n",
        "    \"Afghanistan\", \n",
        "    \"Albania\", \n",
        "    \"Algeria\", \n",
        "    \"American Samoa\", \n",
        "    \"Andorra\", \n",
        "    \"Angola\", \n",
        "    \"Anguilla\", \n",
        "    \"Antarctica\", \n",
        "    \"Antigua And Barbuda\", \n",
        "    \"Argentina\", \n",
        "    \"Armenia\", \n",
        "    \"Aruba\", \n",
        "    \"Australia\", \n",
        "    \"Austria\", \n",
        "    \"Azerbaijan\", \n",
        "]\n",
        "```"
      ]
    },
    {
      "cell_type": "markdown",
      "id": "b5eacc9b",
      "metadata": {
        "id": "b5eacc9b"
      },
      "source": [
        "### Adding new dictionary entries\n",
        "To add a new entry to a dictionary, use item assignment instead of `.update` for less clutter and improved readability:\n",
        "\n",
        "##### _Don't_\n",
        "```python\n",
        "contact_info.update({\"mail\": \"something@somewhere.at\"})\n",
        "```\n",
        "\n",
        "##### _Do_\n",
        "```python\n",
        "contact_info[\"mail\"] = \"something@somewhere.at\"\n",
        "```"
      ]
    },
    {
      "cell_type": "markdown",
      "id": "839800f4",
      "metadata": {
        "id": "839800f4"
      },
      "source": [
        "### Indentation\n",
        "As shown in the section about for loops, Python uses indentation to group statements.\n",
        "Any number of spaces can be used, as long as it's consistent within a block.\n",
        "However, most Python projects use 4 spaces per indentation level.\n",
        "This convention makes it easier to read code written by someone else.\n",
        "\n",
        "##### _Don't_\n",
        "```python\n",
        "for country in countries:\n",
        " print(country)\n",
        "```\n",
        "\n",
        "##### _Do_\n",
        "```python\n",
        "for country in countries:\n",
        "    print(country)\n",
        "```"
      ]
    },
    {
      "cell_type": "markdown",
      "id": "7c402707",
      "metadata": {
        "id": "7c402707"
      },
      "source": [
        "### Descriptive variable names\n",
        "While writing code may seem difficult for now, reading (and understanding) code is actually a far greater challenge. To make things easier for others (including our future selfs), use descriptive variable names:\n",
        "\n",
        "##### _Don't_\n",
        "```python\n",
        "for x in countries:\n",
        "    print(x)\n",
        "```\n",
        "\n",
        "##### _Do_\n",
        "```python\n",
        "for country in countries:\n",
        "    print(country)\n",
        "```"
      ]
    }
  ],
  "metadata": {
    "interpreter": {
      "hash": "46e2835a142a16ae115bce5fddf19f27ce13b17a4ab8ded638c88ab5ce5171d2"
    },
    "kernelspec": {
      "display_name": "Python 3.10.4 64-bit",
      "language": "python",
      "name": "python3"
    },
    "language_info": {
      "codemirror_mode": {
        "name": "ipython",
        "version": 3
      },
      "file_extension": ".py",
      "mimetype": "text/x-python",
      "name": "python",
      "nbconvert_exporter": "python",
      "pygments_lexer": "ipython3",
      "version": "3.10.4"
    },
    "colab": {
      "name": "tut02_datastructures_loops.ipynb",
      "provenance": []
    }
  },
  "nbformat": 4,
  "nbformat_minor": 5
}